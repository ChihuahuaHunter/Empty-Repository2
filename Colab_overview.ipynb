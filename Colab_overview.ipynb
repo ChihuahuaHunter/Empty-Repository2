{
  "nbformat": 4,
  "nbformat_minor": 0,
  "metadata": {
    "colab": {
      "provenance": [],
      "authorship_tag": "ABX9TyMX1o19X/uajGDJ8jeGA9ru",
      "include_colab_link": true
    },
    "kernelspec": {
      "name": "python3",
      "display_name": "Python 3"
    },
    "language_info": {
      "name": "python"
    }
  },
  "cells": [
    {
      "cell_type": "markdown",
      "metadata": {
        "id": "view-in-github",
        "colab_type": "text"
      },
      "source": [
        "<a href=\"https://colab.research.google.com/github/ChihuahuaHunter/Empty-Repository2/blob/main/Colab_overview.ipynb\" target=\"_parent\"><img src=\"https://colab.research.google.com/assets/colab-badge.svg\" alt=\"Open In Colab\"/></a>"
      ]
    },
    {
      "cell_type": "code",
      "source": [
        "!echo \"print('Hello,world!')\" > helloworld.py"
      ],
      "metadata": {
        "id": "50I7L5CZR7D7"
      },
      "execution_count": 2,
      "outputs": []
    },
    {
      "cell_type": "code",
      "source": [
        "!cat helloworld.py"
      ],
      "metadata": {
        "colab": {
          "base_uri": "https://localhost:8080/"
        },
        "id": "0z_AgwIZSRya",
        "outputId": "cf287fa0-f520-4566-edd5-495470f29bb0"
      },
      "execution_count": 3,
      "outputs": [
        {
          "output_type": "stream",
          "name": "stdout",
          "text": [
            "print('Hello,world!')\n"
          ]
        }
      ]
    },
    {
      "cell_type": "code",
      "source": [
        "!python helloworld.py"
      ],
      "metadata": {
        "colab": {
          "base_uri": "https://localhost:8080/"
        },
        "id": "lmR8vtG3SaPC",
        "outputId": "35a25518-356d-42aa-8491-68ed2e2122d7"
      },
      "execution_count": 5,
      "outputs": [
        {
          "output_type": "stream",
          "name": "stdout",
          "text": [
            "Hello,world!\n"
          ]
        }
      ]
    },
    {
      "cell_type": "markdown",
      "source": [
        "%timeit = measure execution runtime\n"
      ],
      "metadata": {
        "id": "hjqtLOVvSnbV"
      }
    },
    {
      "cell_type": "code",
      "source": [
        "def foo(n):\n",
        "  for x in range(n):\n",
        "    pass"
      ],
      "metadata": {
        "id": "G3cVjYaMSq4T"
      },
      "execution_count": 7,
      "outputs": []
    },
    {
      "cell_type": "code",
      "source": [
        "%timeit foo(50)"
      ],
      "metadata": {
        "colab": {
          "base_uri": "https://localhost:8080/"
        },
        "id": "l8y72flnS_eE",
        "outputId": "b9062b16-18cf-4f56-c712-e44869b50fd3"
      },
      "execution_count": 8,
      "outputs": [
        {
          "output_type": "stream",
          "name": "stdout",
          "text": [
            "1.16 µs ± 299 ns per loop (mean ± std. dev. of 7 runs, 1000000 loops each)\n"
          ]
        }
      ]
    },
    {
      "cell_type": "code",
      "source": [
        "%who_ls"
      ],
      "metadata": {
        "colab": {
          "base_uri": "https://localhost:8080/"
        },
        "id": "5sahcL-6TNfi",
        "outputId": "f42a73b0-a745-4952-ec9b-c1966674516d"
      },
      "execution_count": 11,
      "outputs": [
        {
          "output_type": "execute_result",
          "data": {
            "text/plain": [
              "[]"
            ]
          },
          "metadata": {},
          "execution_count": 11
        }
      ]
    },
    {
      "cell_type": "code",
      "source": [
        "%reset"
      ],
      "metadata": {
        "colab": {
          "base_uri": "https://localhost:8080/"
        },
        "id": "80UqctByThY3",
        "outputId": "92942c0f-eef8-4e37-ccfa-f25bdf9b44a2"
      },
      "execution_count": 10,
      "outputs": [
        {
          "name": "stdout",
          "output_type": "stream",
          "text": [
            "Once deleted, variables cannot be recovered. Proceed (y/[n])? y\n"
          ]
        }
      ]
    },
    {
      "cell_type": "code",
      "source": [
        "import numpy as np\n"
      ],
      "metadata": {
        "id": "59Ry0K4iTr6J"
      },
      "execution_count": 14,
      "outputs": []
    },
    {
      "cell_type": "code",
      "source": [
        "np.dot"
      ],
      "metadata": {
        "colab": {
          "base_uri": "https://localhost:8080/"
        },
        "id": "geu8GdHFTvdD",
        "outputId": "5244eeeb-9543-46fd-dd7f-274328c13f7d"
      },
      "execution_count": 17,
      "outputs": [
        {
          "output_type": "execute_result",
          "data": {
            "text/plain": [
              "<function numpy.dot>"
            ]
          },
          "metadata": {},
          "execution_count": 17
        }
      ]
    },
    {
      "cell_type": "markdown",
      "source": [
        "Uploading Files from googuru drive to kolab\n"
      ],
      "metadata": {
        "id": "S15AkxorUisL"
      }
    },
    {
      "cell_type": "code",
      "source": [
        "from google.colab import drive\n",
        "drive.mount('/content/drive/')\n"
      ],
      "metadata": {
        "colab": {
          "base_uri": "https://localhost:8080/"
        },
        "id": "OY50eHRHUoYQ",
        "outputId": "1f3aa871-7157-4e11-af3f-bede0652fc46"
      },
      "execution_count": 18,
      "outputs": [
        {
          "output_type": "stream",
          "name": "stdout",
          "text": [
            "Mounted at /content/drive/\n"
          ]
        }
      ]
    },
    {
      "cell_type": "code",
      "source": [
        "!git clone https://github.com/microsoft/Web-Dev-For-Beginners.git\n"
      ],
      "metadata": {
        "colab": {
          "base_uri": "https://localhost:8080/"
        },
        "id": "lpErUt76VrRJ",
        "outputId": "22e81622-b6c1-4210-e39b-c55e46685d77"
      },
      "execution_count": 20,
      "outputs": [
        {
          "output_type": "stream",
          "name": "stdout",
          "text": [
            "Cloning into 'Web-Dev-For-Beginners'...\n",
            "remote: Enumerating objects: 13345, done.\u001b[K\n",
            "remote: Counting objects: 100% (2689/2689), done.\u001b[K\n",
            "remote: Compressing objects: 100% (311/311), done.\u001b[K\n",
            "remote: Total 13345 (delta 2470), reused 2442 (delta 2376), pack-reused 10656\u001b[K\n",
            "Receiving objects: 100% (13345/13345), 84.96 MiB | 27.46 MiB/s, done.\n",
            "Resolving deltas: 100% (9061/9061), done.\n"
          ]
        }
      ]
    },
    {
      "cell_type": "code",
      "source": [
        "!ls /content/Web-Dev-For-Beginners"
      ],
      "metadata": {
        "colab": {
          "base_uri": "https://localhost:8080/"
        },
        "id": "oun1KZV5WbFE",
        "outputId": "bb062712-bc31-414d-89a6-7875ed5e1d18"
      },
      "execution_count": 21,
      "outputs": [
        {
          "output_type": "stream",
          "name": "stdout",
          "text": [
            "1-getting-started-lessons  CONTRIBUTING.md  package-lock.json\n",
            "2-js-basics\t\t   docs\t\t    pdf\n",
            "3-terrarium\t\t   docsifytopdf.js  quiz-app\n",
            "_404.md\t\t\t   for-teachers.md  README.md\n",
            "4-typing-game\t\t   images\t    SECURITY.md\n",
            "5-browser-extension\t   index.css\t    sketchnotes\n",
            "6-space-game\t\t   index.html\t    SUPPORT.md\n",
            "7-bank-project\t\t   lesson-template  teaching-files\n",
            "8-code-editor\t\t   LICENSE\t    translations\n",
            "CODE_OF_CONDUCT.md\t   package.json     TRANSLATIONS.md\n"
          ]
        }
      ]
    }
  ]
}